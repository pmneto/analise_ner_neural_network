{
 "cells": [
  {
   "cell_type": "markdown",
   "metadata": {
    "id": "2Pjx9d79pqSI"
   },
   "source": [
    "Parte 3 Análise de Dados com NER\n",
    "\n",
    "Questão 3: Baixe o conjunto de dados de notícias disponível em:Folha UOL News Dataset.\n",
    "\n",
    "* Utilize o modelo 'monilouise/ner_pt_br' para identificar e extrair entidades mencionadas nas notícias.\n",
    "* Crie um ranking das organizações que mais apareceram na seção \"Mercado\" no primeiro trimestre de 2015.\n",
    "* Apresente os resultados em um relatório detalhado, incluindo a metodologia utilizada e visualizações para apoiar a análise."
   ]
  },
  {
   "cell_type": "markdown",
   "metadata": {
    "id": "woIqhAmfWm5l"
   },
   "source": [
    "###Download de dependências"
   ]
  },
  {
   "cell_type": "code",
   "execution_count": null,
   "metadata": {
    "id": "tUjyAPCvxTyL"
   },
   "outputs": [],
   "source": [
    "libs = [\"kagglehub[pandas-datasets]\",\"wordcloud\"]\n",
    "try:\n",
    "  !pip install -q libs\n",
    "except ValueError:\n",
    "  print(ValueError)"
   ]
  },
  {
   "cell_type": "markdown",
   "metadata": {
    "id": "WoplUZt2Wrme"
   },
   "source": [
    "###Import das Libs"
   ]
  },
  {
   "cell_type": "code",
   "execution_count": null,
   "metadata": {
    "id": "vBCw8KhF0aXo"
   },
   "outputs": [],
   "source": [
    "import kagglehub\n",
    "import pandas as pd\n",
    "import numpy as np\n",
    "\n",
    "from tqdm.notebook import tqdm\n",
    "\n",
    "\n",
    "from wordcloud import WordCloud\n",
    "import matplotlib.pyplot as plt\n",
    "\n",
    "\n",
    "\n",
    "from transformers import BertForTokenClassification, DistilBertTokenizerFast, pipeline\n"
   ]
  },
  {
   "cell_type": "code",
   "execution_count": null,
   "metadata": {
    "id": "lQGWiIb3JGku"
   },
   "outputs": [],
   "source": [
    "tqdm.pandas()"
   ]
  },
  {
   "cell_type": "markdown",
   "metadata": {
    "id": "GNJ4uForWvXQ"
   },
   "source": [
    "#### Adquirindo o dataset em ambiente colab"
   ]
  },
  {
   "cell_type": "code",
   "execution_count": null,
   "metadata": {
    "colab": {
     "base_uri": "https://localhost:8080/"
    },
    "id": "0k5XOm-yxz1k",
    "outputId": "81046a48-1b99-4e36-d4b2-37b8642b98d4"
   },
   "outputs": [],
   "source": [
    "# Download latest version\n",
    "path = kagglehub.dataset_download(\"marlesson/news-of-the-site-folhauol\", path='.')\n",
    "\n",
    "print(\"Path to dataset files:\", path)"
   ]
  },
  {
   "cell_type": "code",
   "execution_count": null,
   "metadata": {
    "colab": {
     "base_uri": "https://localhost:8080/",
     "height": 241
    },
    "id": "XIDqTLACuy46",
    "outputId": "47d2bf14-e468-4dca-89a0-130169d23332"
   },
   "outputs": [],
   "source": [
    "# Set the path to the file you'd like to load\n",
    "file_path = \"/kaggle/input/news-of-the-site-folhauol/articles.csv\"\n",
    "\n",
    "df = pd.read_csv(file_path)\n",
    "\n",
    "print(\"First 5 records: \\n\")\n",
    "display(df.head())"
   ]
  },
  {
   "cell_type": "code",
   "execution_count": null,
   "metadata": {
    "id": "4RRh4c7f_Ijv"
   },
   "outputs": [],
   "source": []
  },
  {
   "cell_type": "code",
   "execution_count": null,
   "metadata": {
    "colab": {
     "base_uri": "https://localhost:8080/"
    },
    "id": "nscw1nK1-lL0",
    "outputId": "4031b406-40f5-4f83-e51a-e16be1c8df89"
   },
   "outputs": [],
   "source": [
    "df.shape"
   ]
  },
  {
   "cell_type": "markdown",
   "metadata": {
    "id": "rVIkOJilXBYs"
   },
   "source": [
    "####Import do toolkit de nlp"
   ]
  },
  {
   "cell_type": "code",
   "execution_count": null,
   "metadata": {
    "colab": {
     "base_uri": "https://localhost:8080/"
    },
    "id": "K4yTd7rEg6ZM",
    "outputId": "57fee5a2-1887-4d85-c9f3-7d8f6d335860"
   },
   "outputs": [],
   "source": [
    "import nltk\n",
    "nltk.download('stopwords')\n",
    "\n",
    "from nltk.corpus import stopwords\n",
    "\n",
    "# Lista em português\n",
    "stopwords_pt = set(stopwords.words('portuguese'))"
   ]
  },
  {
   "cell_type": "markdown",
   "metadata": {
    "id": "lGy8uFgLXJq7"
   },
   "source": [
    "#####Eliminando registros nulos da coluna text, que é objeto de análise\n",
    "\n",
    "Verificando condições do dataset"
   ]
  },
  {
   "cell_type": "code",
   "execution_count": null,
   "metadata": {
    "id": "WdBs65YnBY4S"
   },
   "outputs": [],
   "source": [
    "df = df.dropna(axis=0, subset=['text'])\n"
   ]
  },
  {
   "cell_type": "code",
   "execution_count": null,
   "metadata": {
    "colab": {
     "base_uri": "https://localhost:8080/"
    },
    "id": "mCPAFHSbXQc3",
    "outputId": "187f0f25-d766-45f4-db57-10f71006fcbd"
   },
   "outputs": [],
   "source": [
    "df.info()"
   ]
  },
  {
   "cell_type": "code",
   "execution_count": null,
   "metadata": {
    "colab": {
     "base_uri": "https://localhost:8080/",
     "height": 490
    },
    "id": "POml_Z3dw8zI",
    "outputId": "6b3e34fb-a8f0-46b9-cb2e-a2c828806098"
   },
   "outputs": [],
   "source": [
    "df.subcategory.value_counts()"
   ]
  },
  {
   "cell_type": "markdown",
   "metadata": {
    "id": "R3X4IkDcXYcv"
   },
   "source": [
    "Inicio da Filtragem pelos requisitos de:\n",
    "\n",
    "\n",
    "\n",
    "*   Notícias da Categoria de Mercado\n",
    "*   Notícias do Primeiro Trimestre de 2015\n",
    "\n"
   ]
  },
  {
   "cell_type": "code",
   "execution_count": null,
   "metadata": {
    "colab": {
     "base_uri": "https://localhost:8080/"
    },
    "id": "6JriwTwHVB_x",
    "outputId": "e96b4920-04d1-4cf0-d9ee-088fe006211b"
   },
   "outputs": [],
   "source": [
    "# Convert 'timestamp' column to datetime objects\n",
    "df['timestamp'] = pd.to_datetime(df['date'])\n",
    "df.shape"
   ]
  },
  {
   "cell_type": "code",
   "execution_count": null,
   "metadata": {
    "colab": {
     "base_uri": "https://localhost:8080/"
    },
    "id": "8-w3KeaT-zD0",
    "outputId": "574ccd5f-1329-4c7b-e882-6aadfe98dadf"
   },
   "outputs": [],
   "source": [
    "\n",
    "# Filter by 'category' or 'subcategory' containing 'mercado' (case-insensitive)\n",
    "df = df[df['category'].str.contains('mercado', case=False, na=False) |\n",
    "                df['subcategory'].str.contains('mercado', case=False, na=False)]\n",
    "\n",
    "df.shape"
   ]
  },
  {
   "cell_type": "code",
   "execution_count": null,
   "metadata": {
    "colab": {
     "base_uri": "https://localhost:8080/"
    },
    "id": "4fTJqTr5BJuU",
    "outputId": "69579609-c2f0-48a9-faea-f2f77a492e2e"
   },
   "outputs": [],
   "source": [
    "df = df[\n",
    "    (df['timestamp'].dt.year == 2015) &\n",
    "    (df['timestamp'].dt.quarter == 1)\n",
    "]\n",
    "df.shape"
   ]
  },
  {
   "cell_type": "markdown",
   "metadata": {
    "id": "OXFlj1KaXmDs"
   },
   "source": [
    "####Instanciação do Modelo monilouise/ner_pt_br do repositório Hugging Face\n",
    "\n",
    "Etapa envolve:\n",
    "\n",
    "\n",
    "\n",
    "*   Tokenização\n",
    "*   Modelo utilizado\n",
    "\n"
   ]
  },
  {
   "cell_type": "code",
   "execution_count": null,
   "metadata": {
    "colab": {
     "base_uri": "https://localhost:8080/",
     "height": 573,
     "referenced_widgets": [
      "9171a7f7e7e0402a958ac0ddd934d0a8",
      "6e11288012c44602924b4efcab963944",
      "7b630f4a13ce471dbb212b6b1cedf20d",
      "dcb603be8ecd4a09ab6abc43e94ed1bd",
      "7daa9ae30e0c4d408f11e0c28c30adcc",
      "4b9673502ca644149df233a150f403fe",
      "093ea21185094d60a6df5668dacecf31",
      "4e6f5418040848d98dbaf0eacc55ab9b",
      "607d842331f94b23b167b064d5cc35b9",
      "68b5ea74f4bb4bca88926ccbd36bdebb",
      "b61174aa40be4d548ee55c15622f8171",
      "d5af2cacc8454507998687b0357a8d7d",
      "ed2626194d304531a8f926b63cf0aa1a",
      "d7791844f60746c58faf403ccd32b584",
      "d13593bf215b4985bd4c01e28862bf1b",
      "65db0301dea1472cba3cac605345733d",
      "d6d0da363b05469f84a5db57c4b5d6af",
      "9a215f4be5264c89af1df1433c278fef",
      "8caa5a603aa84dc587c6712987ddc228",
      "aaeb2485e0764ccba2ee01db633d7222",
      "47cffe345da84f79879109d792818afb",
      "62dd39cfe73d41bc994d66ee55dc7dc6",
      "b51440ff12374a8096c8e5f20c1be398",
      "935ded5a39ea408a94fa1ce323bd1b35",
      "dda73807753d4ed0b4e132e6e5f5a0c1",
      "06cffa52dc1e4079a259989fd403671c",
      "7b61e9deaf164bb2875b7c100875fa06",
      "debd390ebbad4648b9eaf12325a3124f",
      "54e0460d407f4cdfb349410c001abaf2",
      "a118d7a0c0264b81b9ccfe5e7ab054c5",
      "5a118eb6a23940a99c69a030e7aae28d",
      "f61750062e6b4aeea0b32739d463632e",
      "dc7abab7b7d64a92a89fabdf67cf87ed",
      "dd3375e18c944593a0f97661ba469f3f",
      "f69ad7eb11cc4b2eb7ba32a0709c5a89",
      "ff43454ba4e44f02904e77c07e04376e",
      "5028e702eca54af2bad78f0235754a41",
      "6fbb566a119f48bbaa2c9e0637444943",
      "47381def59d8441eb95e7c4873b2c1a2",
      "54ebf4d0c6af4ee7a27850d950bbe163",
      "9ea0fda5c6c9427f90787f420aa099a4",
      "eeb08c79a38a4fe1ae15ee9467ab2491",
      "fc39d768154f4169a5fe5851ba8fca67",
      "c7eb4efc3d8b4cb58bd3722b8ca2fcda",
      "507f7dae908c4cca82ac5acdc9761a94",
      "f767b339881048c886d49ad61af5e920",
      "6431a4e398754c81b854b0e33b12cfd9",
      "570505f37aa9426eafebcfd2142cebce",
      "d29f713ec2c74ab8b1ebb5e38f5b9290",
      "d4c2bbaf13134e6e91181e03d220c05f",
      "c0adbadcd7df42ee90d3f18953015d87",
      "2f9f35ddcfe94454ad8eed9422a3f4a0",
      "51497b98d32340e3b0c994ab704b8bc6",
      "c3fb27f516be4a73b580665bcaab749f",
      "024f5dd4bca04df4a231dd22815358b9",
      "0bea8715fda54419b9f29c6414f9c7f6",
      "3066c981e160461e82adf4729ada7c36",
      "4135065c693f4077b7fa153b1f0bda3a",
      "a9872871672a42a8a954b71ffb40f9f7",
      "f70a538384ca4a53b91a114a4f6cbcce",
      "1f210b5c9abf4c419747ec7d634d7365",
      "7c223a402d6a4432add81412455cf545",
      "1dacd9147f0b4cd1bffd526ab1250f55",
      "ccc101f3490f46e38b8992b4d41e09e5",
      "39762ed2221d4e8a921acd0512194219",
      "2635fb8147a64f4f9142fb54ce99f5b0",
      "8d665f3a164644a3aa33f6277c5e4e01",
      "aa19d41cad29480085c7fa76d986813e",
      "018cb1f8befd4e77a124b3053ed78da3",
      "89ee9046b1cb4b9490ccd185ad1f628a",
      "431bb26bace6499ab5df5b36f54d43f4",
      "758ad74c566f47e2b01a880b2333fe63",
      "7ad2ced86c604eaca33eac8a63501fae",
      "585af72ea5e649798d1e3935ecd0551d",
      "fdddcd7368534d2d9c729771ac553c8d",
      "2f70196817d64341b412d89aeea78f5a",
      "a707876553ad4e6284d1848d4e9fe545"
     ]
    },
    "id": "QFcumZbWwQDo",
    "outputId": "5326ae35-faf6-4c16-d330-a1b64659b936"
   },
   "outputs": [],
   "source": [
    "model = BertForTokenClassification.from_pretrained('monilouise/ner_pt_br')\n",
    "tokenizer = DistilBertTokenizerFast.from_pretrained('neuralmind/bert-base-portuguese-cased'\n",
    "                                                    , model_max_length=512\n",
    "                                                    , do_lower_case=False\n",
    "                                                    )\n",
    "nlp = pipeline('ner', model=model, tokenizer=tokenizer, grouped_entities=True)"
   ]
  },
  {
   "cell_type": "markdown",
   "metadata": {
    "id": "fv1cXhbxX-O1"
   },
   "source": [
    "####Criação de uma coluna \"doc\" para ajudar na análise e evitar reprocessamentos"
   ]
  },
  {
   "cell_type": "code",
   "execution_count": null,
   "metadata": {
    "colab": {
     "base_uri": "https://localhost:8080/",
     "height": 66,
     "referenced_widgets": [
      "1861b320340646e992f4fa7ca37fa861",
      "6b9aa1f9f7e449e6ba1ef6896403254f",
      "e489ddd827164092b4f7f1f57542560d",
      "36de0c8e7cee4d44aff2e6a3dc85c2c4",
      "3bb6a69b021e428e92d00763d33ae6fb",
      "26b645ebf0e1493c8c046565b15ebeae",
      "23b9215008254eb8bf93b1cbec3a21d1",
      "bd5bbeb86e014decbb783114be823693",
      "0794ded0ce914f8985b00d3fafd32969",
      "42a367f081c340248a3b68ca5258d4b6",
      "c0e1a7bf7c0149f8ace6c3aa0aae10a7"
     ]
    },
    "id": "v0GLrQP6ATGV",
    "outputId": "b4b8179b-1207-4215-c23b-b98df7259e10"
   },
   "outputs": [],
   "source": [
    "def run_nlp(text):\n",
    "    output = nlp(text)\n",
    "    return output if output else []\n",
    "\n",
    "df['doc'] = df['text'].progress_apply(run_nlp)"
   ]
  },
  {
   "cell_type": "markdown",
   "metadata": {
    "id": "EghayUoVYGfZ"
   },
   "source": [
    "Análise de um dos resultados da aplicação do pipeline NLP"
   ]
  },
  {
   "cell_type": "code",
   "execution_count": null,
   "metadata": {
    "colab": {
     "base_uri": "https://localhost:8080/"
    },
    "id": "5fI_F7eoOZlk",
    "outputId": "1960822e-587b-4848-f320-7437900fbf2f"
   },
   "outputs": [],
   "source": [
    "df.head(1).doc.values[0][1]"
   ]
  },
  {
   "cell_type": "markdown",
   "metadata": {
    "id": "wLNk-POQYNFl"
   },
   "source": [
    "Extração de Conteúdos direcionados\n",
    "\n",
    "Boa parte dessas operações nem ajudou de fato na análise, mas implementei por que o tempo de execução desse código chegou a bater alarmantes 55 minutos. Em certa parte, por limitação da ferramenta do Colab, precisei usar CPU, o que ainda prejudicou mais o desempenho."
   ]
  },
  {
   "cell_type": "code",
   "execution_count": null,
   "metadata": {
    "colab": {
     "base_uri": "https://localhost:8080/",
     "height": 49,
     "referenced_widgets": [
      "dfae5fb3bda443f5a105d98182fef9fb",
      "538d98dc0b6847c397c1a874ebef2122",
      "28a3321bd9cd4cb1a3485eb5b9d19b26",
      "33c9ac7be8af4b94ac2f080cc5d55a0e",
      "a9b2acbf81b14fc9b9bb52fff85fe808",
      "00af2e6d86ce4fdfadd7402bee788794",
      "6bd4730e5a324469b9c40b6522e7c31a",
      "43266958b24741ba811fb9dd2fe09029",
      "293755ff3af94e8480d233f49cd6b50e",
      "138eabff0d754966a82a9a1647e0f9f0",
      "4a784fc4b4c74a378cabf8ad8a53fd46"
     ]
    },
    "id": "cA7N0rbPIJ8g",
    "outputId": "53700f2c-7e7b-43c2-8e30-815324101b95"
   },
   "outputs": [],
   "source": [
    "#Extração de nomes de Organização\n",
    "def extract_words(text):\n",
    "    if text is None:\n",
    "        return None\n",
    "    else:\n",
    "        words = [json['word'] for json in text]\n",
    "\n",
    "        return words\n",
    "\n",
    "df['words'] = df['doc'].progress_apply(extract_words)"
   ]
  },
  {
   "cell_type": "code",
   "execution_count": null,
   "metadata": {
    "colab": {
     "base_uri": "https://localhost:8080/",
     "height": 49,
     "referenced_widgets": [
      "fdf2ed3cc37d47cfbcb7a6cbe2a4156b",
      "aa884dd19b3049e5ad96ebd38d3c029c",
      "451dc1bf56c9412a8a8ee140fa6019d0",
      "9aa05994a01c40e19af5faf3ef88dcb7",
      "7d1a055282004426b5e4b3d65a07a5e0",
      "a2123f4aa7754ad49cbe88a1fdfc1375",
      "137dcf85814a44f69f18e2fe3b66f596",
      "473960dd674e495aafa169bb3fd71824",
      "57a3da9aca2547a89535efb327d95d44",
      "1cde45dade1d45208fb12987b9b4226e",
      "4f75f77a33ea4b36b4bfbffaf03baca4"
     ]
    },
    "id": "G_Ef-3LZPOJ-",
    "outputId": "aa774601-3b96-4ce8-e379-e09580afce79"
   },
   "outputs": [],
   "source": [
    "#Extração de Classificação das Organizações\n",
    "def extract_entities(text):\n",
    "    if text is None:\n",
    "        return None\n",
    "    else:\n",
    "        entities = [json['entity_group'] for json in text]\n",
    "\n",
    "        return entities\n",
    "\n",
    "df['entities'] = df['doc'].progress_apply(extract_entities)"
   ]
  },
  {
   "cell_type": "code",
   "execution_count": null,
   "metadata": {
    "colab": {
     "base_uri": "https://localhost:8080/",
     "height": 49,
     "referenced_widgets": [
      "48dbc26ddabf478fb9631626ff95aa0d",
      "a6984f570b3c4dd59c4102c82aa3e129",
      "187d172b577e40df9ca726ac8d852066",
      "202f89ba92ba4f8589701a83b08951f5",
      "507690ec6c2449a5bac107fd75651503",
      "59134b173e9d48f89ab7493e562651b8",
      "d57588032b5348a2a5a89e25aac6b330",
      "472288eaf0a94fabade4c54f480206a3",
      "b514dcc541f44cabb698ff09bc39cf09",
      "768a2b3a0f8947cfa9f458d52b620222",
      "80772f2249f6488bacd9bbf68169c7f1"
     ]
    },
    "id": "ICY5EaviPRTC",
    "outputId": "bb439df2-fe9c-4f10-93fa-1a7d595fb422"
   },
   "outputs": [],
   "source": [
    "#Extração de Classificação das Organizações em formato menos prolixo\n",
    "def extract_entities_classifications(text):\n",
    "    if text is None:\n",
    "        return None\n",
    "    else:\n",
    "        entities = [{'word':json['word'],\n",
    "                     'entity_group':json['entity_group'],\n",
    "                     'score':float(json['score'])\n",
    "\n",
    "                     } for json in text]\n",
    "\n",
    "        return entities\n",
    "\n",
    "df['entities_classifications'] = df['doc'].progress_apply(extract_entities_classifications)"
   ]
  },
  {
   "cell_type": "code",
   "execution_count": null,
   "metadata": {
    "colab": {
     "base_uri": "https://localhost:8080/"
    },
    "id": "f0kq-w-cPH1z",
    "outputId": "8fe49cf3-ef0e-41fa-d009-fd29d6cba562"
   },
   "outputs": [],
   "source": [
    "df.head(1).entities_classifications.values[0]"
   ]
  },
  {
   "cell_type": "markdown",
   "metadata": {
    "id": "vQHoe1x-Ydw4"
   },
   "source": [
    "####Definição de Stopwords e limpeza de \"spam\""
   ]
  },
  {
   "cell_type": "code",
   "execution_count": null,
   "metadata": {
    "id": "c65qrlFe15CI"
   },
   "outputs": [],
   "source": [
    "sw = set(list(stopwords_pt) + ['Nu','CN','BM &','FBovespa','Banco','B','Investimentos','Galvão','Brasil','Folha',\"Standard & Poor ' s\",'Vivo','Claro','Oi','Pactual','Times'])"
   ]
  },
  {
   "cell_type": "code",
   "execution_count": null,
   "metadata": {
    "id": "krOeZtjYfoSC"
   },
   "outputs": [],
   "source": [
    "def reconstruir_entidades(ents, tipo='ORG'):\n",
    "    entidades_reconstruidas = []\n",
    "    entidade_atual = ''\n",
    "\n",
    "    for ent in ents:\n",
    "        palavra = ent['word'].strip()\n",
    "        if palavra in sw:\n",
    "            continue\n",
    "\n",
    "        if (palavra.startswith('##') and ent['entity_group'] == tipo) or len(palavra) == 1:\n",
    "\n",
    "            if palavra.startswith('##') and not palavra in sw:\n",
    "\n",
    "              entidade_atual += palavra[2:]\n",
    "\n",
    "            else:\n",
    "              if not palavra in sw:\n",
    "                entidade_atual += ' ' + palavra\n",
    "\n",
    "\n",
    "        elif ent['entity_group'] == tipo:\n",
    "\n",
    "            if entidade_atual:\n",
    "                if not entidade_atual in sw and len(entidade_atual) > 2:\n",
    "\n",
    "                  entidades_reconstruidas.append(entidade_atual)\n",
    "\n",
    "            entidade_atual = palavra\n",
    "\n",
    "      # salva a última\n",
    "    if entidade_atual:\n",
    "\n",
    "          entidades_reconstruidas.append(entidade_atual)\n",
    "\n",
    "    return entidades_reconstruidas\n",
    "\n",
    "\n",
    "#Técnica para Reconstrução de Orgs completas para análise\n",
    "\n",
    "df['orgs_reconstruidas'] = df['doc'].apply(reconstruir_entidades)\n"
   ]
  },
  {
   "cell_type": "code",
   "execution_count": null,
   "metadata": {
    "colab": {
     "base_uri": "https://localhost:8080/"
    },
    "id": "k8fHL24rVN2K",
    "outputId": "0ac8b45d-a93f-4337-8c74-fd2da46ab81c"
   },
   "outputs": [],
   "source": [
    "#Count elementar com itens da lista\n",
    "from collections import Counter\n",
    "\n",
    "counter:list =  []\n",
    "\n",
    "for org in df.orgs_reconstruidas:\n",
    "   counter.extend(org)\n",
    "\n",
    "\n",
    "org_count = Counter(counter).most_common(20)\n",
    "for org in org_count:\n",
    "  print(org)"
   ]
  },
  {
   "cell_type": "markdown",
   "metadata": {
    "id": "Tji0dZTIY1dh"
   },
   "source": [
    "Durante a análise, o mais dificil foi realmente determinar as organizações. O tokenizador pareceu atuar de forma errática algumas vezes por provavelmente não ter sido treinado com vários dos termos que \"encontramos\" aqui. No fim, minha percepção é que muitas vezes, é preciso estudar sobre a elaboração do modelo para poder empregar ele corretamente. Possivelmente, um fine-tunning em cima desse que a autora implementou."
   ]
  },
  {
   "cell_type": "code",
   "execution_count": null,
   "metadata": {
    "colab": {
     "base_uri": "https://localhost:8080/",
     "height": 807
    },
    "id": "pIYTWOe3VMeW",
    "outputId": "70db0a33-3780-42d5-b86d-933ecaca01b1"
   },
   "outputs": [],
   "source": [
    "#Plotando as Orgs\n",
    "org_names, org_counts = zip(*org_count)\n",
    "\n",
    "plt.figure(figsize=(12, 8))\n",
    "plt.barh(org_names[::-1], org_counts[::-1], color='green')\n",
    "plt.xlabel('Contagem')\n",
    "plt.ylabel('Organização')\n",
    "plt.title('Top 20 Organizações mais frequentes em artigos do 1º Trimestre de 2015')\n",
    "plt.tight_layout()\n",
    "plt.show()"
   ]
  },
  {
   "cell_type": "code",
   "execution_count": null,
   "metadata": {
    "colab": {
     "base_uri": "https://localhost:8080/",
     "height": 521
    },
    "id": "HBzah60XV_jm",
    "outputId": "dccb8ee8-140e-477b-b5ac-c72f6927a643"
   },
   "outputs": [],
   "source": [
    "# Combine all reconstructed organizations into a single string\n",
    "all_orgs_text = ' '.join(org_names)\n",
    "\n",
    "# Create a WordCloud object\n",
    "wordcloud = WordCloud(width=800, height=400, background_color='white',collocations=False).generate(all_orgs_text)\n",
    "\n",
    "# Display the word cloud\n",
    "plt.figure(figsize=(12, 6))\n",
    "plt.imshow(wordcloud, interpolation='bilinear')\n",
    "plt.axis('off')\n",
    "plt.title('Nuvem de Palavras das Organizações')\n",
    "plt.show()\n"
   ]
  },
  {
   "cell_type": "code",
   "execution_count": null,
   "metadata": {
    "id": "Sq1VyQ3yWL6_"
   },
   "outputs": [],
   "source": []
  }
 ],
 "metadata": {
  "accelerator": "GPU",
  "colab": {
   "gpuType": "T4",
   "provenance": []
  },
  "kernelspec": {
   "display_name": "Python 3",
   "name": "python3"
  },
  "language_info": {
   "name": "python"
  }
 },
 "nbformat": 4,
 "nbformat_minor": 0
}
