{
 "cells": [
  {
   "cell_type": "code",
   "execution_count": null,
   "metadata": {
    "id": "tUjyAPCvxTyL"
   },
   "outputs": [],
   "source": [
    "libs = [\"kagglehub[pandas-datasets]\"]\n",
    "try:\n",
    "  !pip install -q libs\n",
    "except ValueError:\n",
    "  print(\"Already installed, \", ValueError)"
   ]
  },
  {
   "cell_type": "code",
   "execution_count": null,
   "metadata": {
    "id": "vBCw8KhF0aXo"
   },
   "outputs": [],
   "source": [
    "import kagglehub\n",
    "import pandas as pd\n",
    "import numpy as np\n",
    "\n",
    "from tqdm.notebook import tqdm\n",
    "\n",
    "from transformers import BertForTokenClassification, DistilBertTokenizerFast, pipeline\n"
   ]
  },
  {
   "cell_type": "code",
   "execution_count": null,
   "metadata": {
    "id": "lQGWiIb3JGku"
   },
   "outputs": [],
   "source": [
    "tqdm.pandas()"
   ]
  },
  {
   "cell_type": "code",
   "execution_count": null,
   "metadata": {
    "colab": {
     "base_uri": "https://localhost:8080/"
    },
    "id": "0k5XOm-yxz1k",
    "outputId": "29c2d8bf-16ca-427a-dc14-0715ab19424f"
   },
   "outputs": [],
   "source": [
    "import requests\n",
    "import zipfile\n",
    "import os\n",
    "\n",
    "def baixar_e_extrair_folha_dataset(dest_dir='./folha_dataset'):\n",
    "    url = \"https://www.kaggle.com/api/v1/datasets/download/marlesson/news-of-the-site-folhauol\"\n",
    "    zip_path = \"./news-of-the-site-folhauol.zip\"\n",
    "\n",
    "    print(\"⬇️  Baixando dataset...\")\n",
    "    response = requests.get(url, stream=True)\n",
    "\n",
    "    if response.status_code == 200:\n",
    "        with open(zip_path, \"wb\") as f:\n",
    "            for chunk in response.iter_content(chunk_size=8192):\n",
    "                f.write(chunk)\n",
    "        print(f\"✅ Download concluído: {zip_path}\")\n",
    "    else:\n",
    "        raise Exception(f\"❌ Erro {response.status_code} ao baixar dataset.\")\n",
    "\n",
    "    print(\"📦 Extraindo arquivos...\")\n",
    "    os.makedirs(dest_dir, exist_ok=True)\n",
    "    with zipfile.ZipFile(zip_path, 'r') as zip_ref:\n",
    "        zip_ref.extractall(dest_dir)\n",
    "    print(f\"✅ Extração concluída para: {dest_dir}\")\n",
    "\n",
    "    # Apaga o zip se quiser\n",
    "    os.remove(zip_path)\n",
    "\n",
    "    return dest_dir\n"
   ]
  },
  {
   "cell_type": "code",
   "execution_count": null,
   "metadata": {},
   "outputs": [],
   "source": [
    "caminho = baixar_e_extrair_folha_dataset()"
   ]
  },
  {
   "cell_type": "code",
   "execution_count": null,
   "metadata": {},
   "outputs": [],
   "source": [
    "caminho"
   ]
  },
  {
   "cell_type": "code",
   "execution_count": null,
   "metadata": {
    "colab": {
     "base_uri": "https://localhost:8080/",
     "height": 241
    },
    "id": "XIDqTLACuy46",
    "outputId": "b8d1bb5c-17d0-41e5-8ce9-daa1667f7e2b"
   },
   "outputs": [],
   "source": [
    "# Set the path to the file you'd like to load\n",
    "df = pd.read_csv(r'.\\folha_dataset\\articles.csv')\n",
    "\n",
    "print(\"First 5 records: \\n\")\n",
    "display(df.head())"
   ]
  },
  {
   "cell_type": "code",
   "execution_count": null,
   "metadata": {
    "id": "4RRh4c7f_Ijv"
   },
   "outputs": [],
   "source": []
  },
  {
   "cell_type": "code",
   "execution_count": null,
   "metadata": {
    "colab": {
     "base_uri": "https://localhost:8080/"
    },
    "id": "nscw1nK1-lL0",
    "outputId": "3cbb81a2-b418-4ad5-c37c-778b1e4b8661"
   },
   "outputs": [],
   "source": [
    "df.shape"
   ]
  },
  {
   "cell_type": "code",
   "execution_count": null,
   "metadata": {
    "colab": {
     "base_uri": "https://localhost:8080/"
    },
    "id": "K4yTd7rEg6ZM",
    "outputId": "14630ef5-35d6-40a9-def5-083eca6767dc"
   },
   "outputs": [],
   "source": [
    "import nltk\n",
    "nltk.download('stopwords')\n",
    "\n",
    "from nltk.corpus import stopwords\n",
    "\n",
    "# Lista em português\n",
    "stopwords_pt = set(stopwords.words('portuguese'))"
   ]
  },
  {
   "cell_type": "code",
   "execution_count": null,
   "metadata": {
    "id": "WdBs65YnBY4S"
   },
   "outputs": [],
   "source": [
    "df = df.dropna(axis=0, subset=['text'])\n"
   ]
  },
  {
   "cell_type": "code",
   "execution_count": null,
   "metadata": {
    "colab": {
     "base_uri": "https://localhost:8080/",
     "height": 490
    },
    "id": "POml_Z3dw8zI",
    "outputId": "eb3fb91b-809e-482c-8771-27a97a769337"
   },
   "outputs": [],
   "source": [
    "df.subcategory.value_counts()"
   ]
  },
  {
   "cell_type": "code",
   "execution_count": null,
   "metadata": {
    "colab": {
     "base_uri": "https://localhost:8080/"
    },
    "id": "6JriwTwHVB_x",
    "outputId": "23558ac4-08f0-4977-8679-df442890f0d0"
   },
   "outputs": [],
   "source": [
    "# Convert 'timestamp' column to datetime objects\n",
    "df['timestamp'] = pd.to_datetime(df['date'])\n",
    "df.shape"
   ]
  },
  {
   "cell_type": "code",
   "execution_count": null,
   "metadata": {
    "colab": {
     "base_uri": "https://localhost:8080/"
    },
    "id": "8-w3KeaT-zD0",
    "outputId": "bdfeab1d-f466-454a-bf50-6d300641861c"
   },
   "outputs": [],
   "source": [
    "\n",
    "# Filter by 'category' or 'subcategory' containing 'mercado' (case-insensitive)\n",
    "df = df[df['category'].str.contains('mercado', case=False, na=False) |\n",
    "                df['subcategory'].str.contains('mercado', case=False, na=False)]\n",
    "\n",
    "df.shape"
   ]
  },
  {
   "cell_type": "code",
   "execution_count": null,
   "metadata": {
    "colab": {
     "base_uri": "https://localhost:8080/"
    },
    "id": "4fTJqTr5BJuU",
    "outputId": "b037fd77-c1ee-4d88-bdbb-8ebabacf4126"
   },
   "outputs": [],
   "source": [
    "df = df[\n",
    "    (df['timestamp'].dt.year == 2015) &\n",
    "    (df['timestamp'].dt.quarter == 1)\n",
    "]\n",
    "df.shape"
   ]
  },
  {
   "cell_type": "code",
   "execution_count": null,
   "metadata": {
    "colab": {
     "base_uri": "https://localhost:8080/",
     "height": 573,
     "referenced_widgets": [
      "0f308b47d7da48f1bf9767e0c7bb1aef",
      "2c226208910a4c2dbac68b506add1a5e",
      "9262da62d7a04751ac29c59a4fdcdfb6",
      "17c2e975b11d41ebb0d84a8ff6a94a51",
      "1a8e2d9b51b1461f80f178c61ff78672",
      "7f199484572c4d15b694c4826a8a84a7",
      "ea1dc0a090a14de1a4005f0f23b8fd89",
      "381973a7bc364cd9870f6b6da5285201",
      "95eef8574f7148f7883db31a37c82c8d",
      "f8cef202228d4f2e93d55f863e5adc1c",
      "98f6390d33034f5c8d92f5a5cb397d16",
      "a631a2a354374a48af7a61d241b2e312",
      "021332752d39479390def25ead89c8cb",
      "4fa26d57967c440e85ac1caa36866fa8",
      "d3846ba570ed4d948806aecc6b5a24a4",
      "655cdd37f3144c0cab8c3296f9c791c4",
      "54021a184b624b219607a4ec94e38af2",
      "5a6e080b33664f758ca9988b76cf426e",
      "7b131d9184534f84a23a61a9ba79c725",
      "6d90d0f095384371ad7872af1cb6af8e",
      "e3b506ac1c74480e97ea0cdb48176fb6",
      "ad2358b53c0d4893b7d5b5a21180de3a",
      "cbf3b1667e1b42e594094394d167bfda",
      "97bfd49e89154c589017ec2ff3d9a438",
      "87992fd51f20491b8ed584a57f3f3a30",
      "17cefb4262844a9fbf1249ebb7f91274",
      "c9172b585c124a78954766f8f2aab4a1",
      "4bce42205dfd4cd7af846bcf453f9321",
      "a4ac97228425424ebf9777e679128ef9",
      "8b9d3f51b269468aa1327cc060b5c990",
      "b52ac38d2da144909c944b743295df86",
      "cca80aff4ee94c2a95287e50d6cdaaef",
      "ff873d2bfea34e65800c4d032c3c8262",
      "23a005c065f44f11a44a66d1d2a9f7f1",
      "54bc4f33df384dc68997da72cba47165",
      "c15f6ead499e44a8848a1de683730e54",
      "d67d1de848b345518dd8e04ef959ed15",
      "89bc1f9b2cc14e07ab341bc94a73d528",
      "6013d09e5e0c485ca0bdb3c788e299e5",
      "f59bb8ba657b4bf08a864a587fa1761c",
      "80407eb8be764652983dd6035c34664d",
      "3e2b6c9153444adb968f1f3938011eaa",
      "e6bac6c3cfd6422c8215a8b4c7178e17",
      "fe01f654a3ad436992acedc56a2b2da3",
      "0ef3ff75b8564891841bdb9cdc0a8891",
      "fa130ff5bfe641abad2ee85141088f15",
      "e1cc37dc60f94aa5b186620bd5348cd1",
      "05aa1b5faf9746f282c16cf94dd2d760",
      "a5e0657dd9e44922956e554b0eb54b85",
      "5498dddc11d044f2b55968b9a672f0ef",
      "ab1f22d57de94eb5a7966d3d456805df",
      "1e4fadedaba2462baae8483b57fe7c84",
      "f27827ded71e433ea6d969f8a9eb917f",
      "04782ce3f8a54852b0f8ac7874680d44",
      "abd2285cc064460ea7437850d2592141",
      "c05f300af6d04623a1aa67a87e6d4ae9",
      "7e58adbb9cbd4b13897e734e4c5fa871",
      "df84220b1e44400f815c60516d04e01a",
      "caaf7e90519140d78a127b5c35bd95d4",
      "e6569d07fe3043839ccd2a57c2479522",
      "65057aeb479f45a7bf91969c8d35568e",
      "11380b2afe4d4178827659c50f8bf224",
      "6bc599105e8e401fbf799fb82dbeea7d",
      "141fe78559b64a16bcbad6c41342a662",
      "8cbb80f59d704ae9b3f1fa6fb4765e43",
      "323edff4e7d84944abe98adea7f6aff1",
      "95b4ce9dd9124ffc8f5214ea18527c04",
      "5ac4b0fb88cf4d8cae34f46b12306a36",
      "f4b3bbb12a8344b1b3d7d2a58c0ed3bc",
      "e2e7303105534cf8b607d9402abfde1a",
      "1db74c997187476eb1e1518ea85d1104",
      "764ac33973d141b7bfbec8f65e44f278",
      "44fad314f25341449098c7b66cd93cfb",
      "d6050a383371458c95bca8c831df6010",
      "10e93a414e384939b9064869ff247f69",
      "ddee197fea654762aa4c5e882c386302",
      "e380b72ea8024bc2a9850247d49ed363"
     ]
    },
    "id": "QFcumZbWwQDo",
    "outputId": "87bc8ef6-0f89-4135-92cf-ed62612714fd"
   },
   "outputs": [],
   "source": [
    "model = BertForTokenClassification.from_pretrained('monilouise/ner_pt_br')\n",
    "tokenizer = DistilBertTokenizerFast.from_pretrained('neuralmind/bert-base-portuguese-cased'\n",
    "                                                    , model_max_length=512\n",
    "                                                    , do_lower_case=False\n",
    "                                                    )\n",
    "nlp = pipeline('ner', model=model, tokenizer=tokenizer, grouped_entities=True)"
   ]
  },
  {
   "cell_type": "code",
   "execution_count": null,
   "metadata": {
    "colab": {
     "base_uri": "https://localhost:8080/",
     "height": 49,
     "referenced_widgets": [
      "919706ad4be245b9ae5d16cdb0c5ccd5",
      "469066eb8f34402893b32b9dab62d5be",
      "142f23dc660d4e20a75b5f7c85ad0b94",
      "cd3e612de4c94df2b134200cc11d9a55",
      "fa99da0c231c4f7ead69e1af8c12872a",
      "b127798ee2764265854614edd0709c0e",
      "d170183c7b0c416dbce6b7aa0d26d485",
      "c7e2d1e8c5944196a4d5f7dd5b171a63",
      "cc8e1d4337a64330b7a5b05bd8ab0796",
      "ca451aa22d0e4dd793bdf1d8d2a60c4f",
      "f79aad8211f447dfa7ea4a2e7679e041"
     ]
    },
    "id": "v0GLrQP6ATGV",
    "outputId": "0926219a-c50c-4400-a375-69ff48b7ffa6"
   },
   "outputs": [],
   "source": [
    "def run_nlp(text):\n",
    "    output = nlp(text)\n",
    "    return output if output else []\n",
    "\n",
    "df['doc'] = df['text'].progress_apply(run_nlp)"
   ]
  },
  {
   "cell_type": "code",
   "execution_count": null,
   "metadata": {
    "id": "5fI_F7eoOZlk"
   },
   "outputs": [],
   "source": [
    "df.head(1).doc.values[0][1]"
   ]
  },
  {
   "cell_type": "code",
   "execution_count": null,
   "metadata": {
    "id": "cA7N0rbPIJ8g"
   },
   "outputs": [],
   "source": [
    "def extract_words(text):\n",
    "    if text is None:\n",
    "        return None\n",
    "    else:\n",
    "        words = [json['word'] for json in text]\n",
    "\n",
    "        return words\n",
    "\n",
    "df['words'] = df['doc'].progress_apply(extract_words)"
   ]
  },
  {
   "cell_type": "code",
   "execution_count": null,
   "metadata": {
    "id": "G_Ef-3LZPOJ-"
   },
   "outputs": [],
   "source": [
    "def extract_entities(text):\n",
    "    if text is None:\n",
    "        return None\n",
    "    else:\n",
    "        entities = [json['entity_group'] for json in text]\n",
    "\n",
    "        return entities\n",
    "\n",
    "df['entities'] = df['doc'].progress_apply(extract_entities)"
   ]
  },
  {
   "cell_type": "code",
   "execution_count": null,
   "metadata": {
    "id": "ICY5EaviPRTC"
   },
   "outputs": [],
   "source": [
    "def extract_entities_classifications(text):\n",
    "    if text is None:\n",
    "        return None\n",
    "    else:\n",
    "        entities = [{'word':json['word'],\n",
    "                     'entity_group':json['entity_group'],\n",
    "                     'score':float(json['score'])\n",
    "\n",
    "                     } for json in text]\n",
    "\n",
    "        return entities\n",
    "\n",
    "df['entities_classifications'] = df['doc'].progress_apply(extract_entities_classifications)"
   ]
  },
  {
   "cell_type": "code",
   "execution_count": null,
   "metadata": {
    "id": "f0kq-w-cPH1z"
   },
   "outputs": [],
   "source": [
    "df.head(1).entities_classifications.values[0]"
   ]
  },
  {
   "cell_type": "code",
   "execution_count": null,
   "metadata": {
    "id": "EHn-BFw2QuM6"
   },
   "outputs": [],
   "source": [
    "df.entities.value_counts()"
   ]
  },
  {
   "cell_type": "code",
   "execution_count": null,
   "metadata": {
    "id": "13KPgeOWcA3O"
   },
   "outputs": [],
   "source": [
    "df[df.text.str.contains('bradesco',case=False)].head(1).doc.values[0]"
   ]
  },
  {
   "cell_type": "code",
   "execution_count": null,
   "metadata": {
    "id": "c65qrlFe15CI"
   },
   "outputs": [],
   "source": [
    "sw = set(list(stopwords_pt) + ['Nu','CN'])"
   ]
  },
  {
   "cell_type": "code",
   "execution_count": null,
   "metadata": {
    "id": "krOeZtjYfoSC"
   },
   "outputs": [],
   "source": [
    "def reconstruir_entidades(ents, tipo='ORG'):\n",
    "    entidades_reconstruidas = []\n",
    "    entidade_atual = ''\n",
    "\n",
    "    for ent in ents:\n",
    "\n",
    "        palavra = ent['word']\n",
    "        if palavra.startswith('##') and ent['entity_group'] == tipo:\n",
    "            entidade_atual += palavra[2:]\n",
    "            print('startswith ##: ',entidade_atual)\n",
    "        elif ent['entity_group'] == tipo:\n",
    "            print('Else if: ',entidade_atual)\n",
    "            if entidade_atual:\n",
    "                if not entidade_atual in sw and len(entidade_atual) > 2:\n",
    "\n",
    "                  entidades_reconstruidas.append(entidade_atual)\n",
    "\n",
    "            entidade_atual = palavra\n",
    "\n",
    "    # salva a última\n",
    "    if entidade_atual:\n",
    "        entidades_reconstruidas.append(entidade_atual)\n",
    "\n",
    "    return entidades_reconstruidas\n",
    "\n",
    "\n",
    "df['orgs_reconstruidas'] = df['doc'].apply(reconstruir_entidades)\n"
   ]
  },
  {
   "cell_type": "code",
   "execution_count": null,
   "metadata": {
    "id": "ngjdSQz8gaqI"
   },
   "outputs": [],
   "source": [
    "df.orgs_reconstruidas.values[:]"
   ]
  },
  {
   "cell_type": "code",
   "execution_count": null,
   "metadata": {
    "id": "ibXlOuaB5d0K"
   },
   "outputs": [],
   "source": [
    "df.orgs_reconstruidas"
   ]
  },
  {
   "cell_type": "code",
   "execution_count": null,
   "metadata": {
    "id": "k8fHL24rVN2K"
   },
   "outputs": [],
   "source": [
    "from collections import Counter\n",
    "\n",
    "counter:list =  []\n",
    "\n",
    "for org in df.orgs_reconstruidas:\n",
    "   counter.extend(org)\n",
    "\n",
    "\n",
    "org_count = Counter(counter).most_common(20)\n",
    "for org in org_count:\n",
    "  print(org)"
   ]
  }
 ],
 "metadata": {
  "colab": {
   "provenance": []
  },
  "kernelspec": {
   "display_name": "Python 3 (ipykernel)",
   "language": "python",
   "name": "python3"
  },
  "language_info": {
   "codemirror_mode": {
    "name": "ipython",
    "version": 3
   },
   "file_extension": ".py",
   "mimetype": "text/x-python",
   "name": "python",
   "nbconvert_exporter": "python",
   "pygments_lexer": "ipython3",
   "version": "3.12.1"
  }
 },
 "nbformat": 4,
 "nbformat_minor": 4
}
